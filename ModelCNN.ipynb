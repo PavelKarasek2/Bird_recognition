{
 "cells": [
  {
   "cell_type": "code",
   "execution_count": 2,
   "id": "9088d773-836a-4099-913b-170b478b1560",
   "metadata": {},
   "outputs": [],
   "source": [
    "import matplotlib.pyplot as plt\n",
    "import numpy as np\n",
    "import tensorflow as tf\n",
    "from tensorflow import keras\n",
    "from tensorflow.keras import layers\n",
    "from tensorflow.keras.models import Sequential\n",
    "from tensorflow.keras import metrics as metrics"
   ]
  },
  {
   "cell_type": "code",
   "execution_count": 3,
   "id": "ea4350fd-2751-4013-a4c4-32241424d3be",
   "metadata": {},
   "outputs": [],
   "source": [
    "folder = \"/home/user/Documents/St.Olaf/Csci379/karase1/project_02/python_data_objects/\"\n",
    "from joblib import load\n",
    "# train_images = load(folder+'train_images.joblib')\n",
    "# train_labels = load(folder+'train_labels.joblib')\n",
    "# valid_images = load(folder+'valid_images.joblib')\n",
    "# valid_labels = load(folder+'valid_labels.joblib')\n",
    "# test_images = load(folder+'test_images.joblib')\n",
    "# test_labels = load(folder+'test_labels.joblib')\n",
    "train_images = load(folder+'train_images_not_standardized.joblib')\n",
    "train_labels = load(folder+'train_labels_not_standardized.joblib')\n",
    "valid_images = load(folder+'valid_images_not_standardized.joblib')\n",
    "valid_labels = load(folder+'valid_labels_not_standardized.joblib')\n",
    "test_images = load(folder+'test_images_not_standardized.joblib')\n",
    "test_labels = load(folder+'test_labels_not_standardized.joblib')"
   ]
  },
  {
   "cell_type": "code",
   "execution_count": 4,
   "id": "201e371f-7832-4563-8ca9-0681c3239f06",
   "metadata": {},
   "outputs": [],
   "source": [
    "model1 = Sequential([\n",
    "  layers.Rescaling(1./255, input_shape=(180, 180, 3)),\n",
    "  layers.Conv2D(16, 3, padding='same', activation='relu'),\n",
    "  layers.MaxPooling2D(),\n",
    "  layers.Conv2D(32, 3, padding='same', activation='relu'),\n",
    "  layers.MaxPooling2D(),\n",
    "  layers.Conv2D(64, 3, padding='same', activation='relu'),\n",
    "  layers.MaxPooling2D(),\n",
    "  layers.Flatten(),\n",
    "  layers.Dense(128, activation='relu'),\n",
    "  layers.Dense(200, activation='softmax')\n",
    "])"
   ]
  },
  {
   "cell_type": "code",
   "execution_count": 5,
   "id": "8037151a-2ce5-4195-98d6-96e7899b7121",
   "metadata": {},
   "outputs": [],
   "source": [
    "batch_size = 32\n",
    "\n",
    "model1.compile(optimizer='adam',\n",
    "              loss=tf.keras.losses.SparseCategoricalCrossentropy(),\n",
    "              metrics=['accuracy'])"
   ]
  },
  {
   "cell_type": "code",
   "execution_count": 6,
   "id": "a884f330-f5ff-47a3-ae8b-f7cd7548caa6",
   "metadata": {},
   "outputs": [
    {
     "name": "stdout",
     "output_type": "stream",
     "text": [
      "Epoch 1/4\n",
      "1186/1186 [==============================] - 128s 107ms/step - loss: 4.6464 - accuracy: 0.0399 - val_loss: 4.1581 - val_accuracy: 0.0874\n",
      "Epoch 2/4\n",
      "1186/1186 [==============================] - 125s 105ms/step - loss: 3.6223 - accuracy: 0.1585 - val_loss: 3.7112 - val_accuracy: 0.1530\n",
      "Epoch 3/4\n",
      "1186/1186 [==============================] - 126s 106ms/step - loss: 2.7775 - accuracy: 0.3177 - val_loss: 3.7346 - val_accuracy: 0.1664\n",
      "Epoch 4/4\n",
      "1186/1186 [==============================] - 126s 107ms/step - loss: 1.9321 - accuracy: 0.5051 - val_loss: 4.2889 - val_accuracy: 0.1723\n"
     ]
    }
   ],
   "source": [
    "#we get the best \n",
    "history1 = model1.fit(train_images, train_labels, batch_size=batch_size,\n",
    "                            epochs=4, validation_data=(valid_images, valid_labels))\n",
    "#after the 4th epoch, the validation data accuracy starts dropping while training accuracy keeps growing - overfitting"
   ]
  },
  {
   "cell_type": "code",
   "execution_count": 7,
   "id": "41e7d0c9-30f4-4d54-9b15-e1e82434ce2c",
   "metadata": {},
   "outputs": [
    {
     "name": "stdout",
     "output_type": "stream",
     "text": [
      "141/141 - 6s - loss: 4.5013 - accuracy: 0.1386 - 6s/epoch - 45ms/step\n",
      "CNN Test Accuracy: 13.86%\n",
      "CNN Test Loss: 4.5013\n"
     ]
    }
   ],
   "source": [
    "test_loss1, test_accuracy1 = model1.evaluate(test_images, test_labels, verbose=2)\n",
    "\n",
    "print(f'CNN Test Accuracy: {test_accuracy1 * 100:.2f}%')\n",
    "print(f'CNN Test Loss: {test_loss1:.4f}')"
   ]
  },
  {
   "cell_type": "code",
   "execution_count": 15,
   "id": "6647ba7f-ff5d-4a65-9073-341d2c131b67",
   "metadata": {},
   "outputs": [],
   "source": [
    "#add batch normalization layers\n",
    "#experiment with kernel sizes\n",
    "\n",
    "batch_size = 32\n",
    "model2 = Sequential([\n",
    "  layers.Rescaling(1./255, input_shape=(180, 180, 3)),\n",
    "    \n",
    "  layers.Conv2D(16, (2,2), padding='valid', activation='relu',input_shape=(180, 180, 3)),\n",
    "  #layers.BatchNormalization(),\n",
    "  layers.MaxPooling2D(pool_size=(2, 2)),\n",
    "  layers.Dropout(0.1),\n",
    "    \n",
    "  layers.Conv2D(32, (3,3), padding='valid', activation='relu'),\n",
    "  #layers.BatchNormalization(),\n",
    "  layers.MaxPooling2D(pool_size=(4, 4)),\n",
    "  layers.Dropout(0.1),\n",
    "    \n",
    "  layers.Conv2D(64, (5,5), padding='valid', activation='relu'),\n",
    "  #layers.BatchNormalization(),\n",
    "  layers.MaxPooling2D(pool_size=(6, 6)),\n",
    "  layers.Dropout(0.1),\n",
    "    \n",
    "  layers.Flatten(),\n",
    "  layers.Dense(128, activation='relu'),\n",
    "  layers.Dropout(0.1),\n",
    "  layers.Dense(200, activation='softmax')\n",
    "])\n",
    "\n",
    "#SUMMARIZE THE FOLLOWING INTO THE PAPER\n",
    "#added a dropout layer (0.1) after each pooling layer, the best validation set performance 7th epoch, 17.02%,test performance 15.68%\n",
    "#dropout rate 0.1 seems to work better that 0.2. 0.6 was brutal\n",
    "#removing all except the second to last dropout layer - best val_acc 15.11%, test data accuracy 13.02%\n",
    "#returned back the dropout layers, added the input shape parameter, changed padding to \"valid\", best of 16.57% on valid\n",
    "#changed kernel sizes to (2,2), (3,3), (5,5) - improvement - val_acc 19.12% 4th epoch, test_acc 16.1% (after all epochs - started getting worse after 5)- explore more\n",
    "#added batch normalization layers - the model went to shit here- not getting better than 0.5% - got something wrong that is for sure\n",
    "#removed the batch normalization layers and changed dropout rates to 0.2 again - similar to model with 0.1 rate\n",
    "#removed all dropouts - got worse - valid 17.13%, test 16.10%\n",
    "    #the dropout layers could worsen the performance because all non-zero data is the bird itself which matters\n",
    "#try dropouts only in later layers where essentially all other 0s from the background are gone?\n",
    "#changed pool sizes: (2,2), (3,3), (4,4) -> big improvements - 7th epoch 27.57% valid, 26.71% test, 8th v28.16% t26.33%  \n",
    "#changed pool sizes: (2,2), (4,4), (6,6) -> after 13 or 14 epochs v30.45%- run again when time just to get the correct data for paper\n",
    "\n",
    "\n",
    "#Add dense layers in between!!\n",
    "\n",
    "\n",
    "#add sets of layers once I figure out which work generally the best"
   ]
  },
  {
   "cell_type": "code",
   "execution_count": 16,
   "id": "9436cbb9-513c-46d7-ba20-4ad8423f4861",
   "metadata": {},
   "outputs": [],
   "source": [
    "#add scheduler to adam\n",
    "from keras.optimizers import Adam\n",
    "model2.compile(optimizer = Adam(learning_rate=0.001),\n",
    "              loss=tf.keras.losses.SparseCategoricalCrossentropy(),\n",
    "              metrics=['accuracy'])"
   ]
  },
  {
   "cell_type": "code",
   "execution_count": 17,
   "id": "86869212-7cb4-4ed7-8af9-bc1e55e86512",
   "metadata": {},
   "outputs": [
    {
     "name": "stdout",
     "output_type": "stream",
     "text": [
      "Model: \"sequential_1\"\n",
      "_________________________________________________________________\n",
      " Layer (type)                Output Shape              Param #   \n",
      "=================================================================\n",
      " rescaling_1 (Rescaling)     (None, 180, 180, 3)       0         \n",
      "                                                                 \n",
      " conv2d_3 (Conv2D)           (None, 179, 179, 16)      208       \n",
      "                                                                 \n",
      " max_pooling2d_3 (MaxPoolin  (None, 89, 89, 16)        0         \n",
      " g2D)                                                            \n",
      "                                                                 \n",
      " dropout_4 (Dropout)         (None, 89, 89, 16)        0         \n",
      "                                                                 \n",
      " conv2d_4 (Conv2D)           (None, 87, 87, 32)        4640      \n",
      "                                                                 \n",
      " max_pooling2d_4 (MaxPoolin  (None, 21, 21, 32)        0         \n",
      " g2D)                                                            \n",
      "                                                                 \n",
      " dropout_5 (Dropout)         (None, 21, 21, 32)        0         \n",
      "                                                                 \n",
      " conv2d_5 (Conv2D)           (None, 17, 17, 64)        51264     \n",
      "                                                                 \n",
      " max_pooling2d_5 (MaxPoolin  (None, 2, 2, 64)          0         \n",
      " g2D)                                                            \n",
      "                                                                 \n",
      " dropout_6 (Dropout)         (None, 2, 2, 64)          0         \n",
      "                                                                 \n",
      " flatten_1 (Flatten)         (None, 256)               0         \n",
      "                                                                 \n",
      " dense_2 (Dense)             (None, 128)               32896     \n",
      "                                                                 \n",
      " dropout_7 (Dropout)         (None, 128)               0         \n",
      "                                                                 \n",
      " dense_3 (Dense)             (None, 200)               25800     \n",
      "                                                                 \n",
      "=================================================================\n",
      "Total params: 114808 (448.47 KB)\n",
      "Trainable params: 114808 (448.47 KB)\n",
      "Non-trainable params: 0 (0.00 Byte)\n",
      "_________________________________________________________________\n"
     ]
    }
   ],
   "source": [
    "model2.summary()"
   ]
  },
  {
   "cell_type": "code",
   "execution_count": 20,
   "id": "629263fd-6cf4-400c-8353-3ce3d5cefad6",
   "metadata": {},
   "outputs": [
    {
     "name": "stdout",
     "output_type": "stream",
     "text": [
      "Epoch 1/10\n",
      "1186/1186 [==============================] - 115s 97ms/step - loss: 2.8082 - accuracy: 0.2838 - val_loss: 3.0975 - val_accuracy: 0.2504\n",
      "Epoch 2/10\n",
      "1186/1186 [==============================] - 118s 99ms/step - loss: 2.7037 - accuracy: 0.3074 - val_loss: 3.0192 - val_accuracy: 0.2746\n",
      "Epoch 3/10\n",
      "1186/1186 [==============================] - 115s 97ms/step - loss: 2.6158 - accuracy: 0.3230 - val_loss: 3.0470 - val_accuracy: 0.2670\n",
      "Epoch 4/10\n",
      "1186/1186 [==============================] - 119s 101ms/step - loss: 2.5408 - accuracy: 0.3374 - val_loss: 2.9878 - val_accuracy: 0.2778\n",
      "Epoch 5/10\n",
      "1186/1186 [==============================] - 116s 98ms/step - loss: 2.4670 - accuracy: 0.3530 - val_loss: 2.9866 - val_accuracy: 0.2844\n",
      "Epoch 6/10\n",
      "1186/1186 [==============================] - 116s 98ms/step - loss: 2.4088 - accuracy: 0.3664 - val_loss: 2.9509 - val_accuracy: 0.3045\n",
      "Epoch 7/10\n",
      "1186/1186 [==============================] - 118s 99ms/step - loss: 2.3634 - accuracy: 0.3726 - val_loss: 2.9623 - val_accuracy: 0.3016\n",
      "Epoch 8/10\n",
      "1186/1186 [==============================] - 116s 98ms/step - loss: 2.3146 - accuracy: 0.3810 - val_loss: 3.0211 - val_accuracy: 0.2933\n",
      "Epoch 9/10\n",
      "1186/1186 [==============================] - 117s 99ms/step - loss: 2.2715 - accuracy: 0.3914 - val_loss: 2.9384 - val_accuracy: 0.2994\n",
      "Epoch 10/10\n",
      "1186/1186 [==============================] - 119s 100ms/step - loss: 2.2396 - accuracy: 0.3961 - val_loss: 2.9765 - val_accuracy: 0.3016\n"
     ]
    }
   ],
   "source": [
    "history2 = model2.fit(train_images, train_labels, batch_size=batch_size,\n",
    "                            epochs=10, validation_data=(valid_images, valid_labels))"
   ]
  },
  {
   "cell_type": "code",
   "execution_count": 21,
   "id": "430221f9-6950-488a-b02f-38cc07c2354e",
   "metadata": {},
   "outputs": [
    {
     "name": "stdout",
     "output_type": "stream",
     "text": [
      "141/141 - 5s - loss: 3.1321 - accuracy: 0.2855 - 5s/epoch - 35ms/step\n",
      "CNN Test Accuracy: 28.55%\n",
      "CNN Test Loss: 3.1321\n"
     ]
    }
   ],
   "source": [
    "test_loss2, test_accuracy2 = model2.evaluate(test_images, test_labels, verbose=2)\n",
    "\n",
    "print(f'CNN Test Accuracy: {test_accuracy2 * 100:.2f}%')\n",
    "print(f'CNN Test Loss: {test_loss2:.4f}')"
   ]
  },
  {
   "cell_type": "code",
   "execution_count": 4,
   "id": "d710a399-cdb8-423a-a609-88feb7d01494",
   "metadata": {},
   "outputs": [],
   "source": [
    "batch_size = 32\n",
    "model3 = Sequential([\n",
    "  layers.Rescaling(1./255, input_shape=(180, 180, 3)),\n",
    "    \n",
    "  layers.Conv2D(32, (2,2), padding='valid', activation='relu',input_shape=(180, 180, 3)),\n",
    "  #layers.BatchNormalization(),\n",
    "  layers.MaxPooling2D(pool_size=(2, 2)),\n",
    "  #layers.Dropout(0.1),\n",
    "    \n",
    "  layers.Conv2D(32, (2,2), padding='valid', activation='relu'),\n",
    "  #layers.BatchNormalization(),\n",
    "  layers.MaxPooling2D(pool_size=(2, 2)),\n",
    "  layers.Dropout(0.1),\n",
    "\n",
    "  layers.Conv2D(64, (3,3), padding='valid', activation='relu'),\n",
    "  #layers.BatchNormalization(),\n",
    "  layers.MaxPooling2D(pool_size=(3, 3)),\n",
    "  layers.Dropout(0.1),\n",
    "\n",
    "  layers.Conv2D(128, (5,5), padding='valid', activation='relu'),\n",
    "  #layers.BatchNormalization(),\n",
    "  layers.MaxPooling2D(pool_size=(5, 5)),\n",
    "  layers.Dropout(0.1),\n",
    "    \n",
    "  layers.Flatten(),\n",
    "  layers.Dense(128, activation='relu'),\n",
    "  layers.Dropout(0.1),\n",
    "  layers.Dense(200, activation='softmax')\n",
    "])\n",
    "\n",
    "#11th epoch v33.83%, t34.83%\n",
    "#doubled each number of factors - essentially no improvement\n",
    "#decreased pool sizes but increased number of layer sets - worsened the model\n",
    "#added 0.1 dropout layer after the first set - not much difference v35.21%, t32.28%, \n",
    "#changed 2nd conv to from (2,2) to (3,3), 3rd from (3,3) to (4,4), and 4th to (6,6) - worse results \n",
    "#add more dense layers at the end?"
   ]
  },
  {
   "cell_type": "code",
   "execution_count": 5,
   "id": "89b79c46-f831-4861-bd01-0d46445753d1",
   "metadata": {},
   "outputs": [
    {
     "name": "stdout",
     "output_type": "stream",
     "text": [
      "Model: \"sequential\"\n",
      "_________________________________________________________________\n",
      " Layer (type)                Output Shape              Param #   \n",
      "=================================================================\n",
      " rescaling (Rescaling)       (None, 180, 180, 3)       0         \n",
      "                                                                 \n",
      " conv2d (Conv2D)             (None, 179, 179, 32)      416       \n",
      "                                                                 \n",
      " max_pooling2d (MaxPooling2  (None, 89, 89, 32)        0         \n",
      " D)                                                              \n",
      "                                                                 \n",
      " conv2d_1 (Conv2D)           (None, 88, 88, 32)        4128      \n",
      "                                                                 \n",
      " max_pooling2d_1 (MaxPoolin  (None, 44, 44, 32)        0         \n",
      " g2D)                                                            \n",
      "                                                                 \n",
      " dropout (Dropout)           (None, 44, 44, 32)        0         \n",
      "                                                                 \n",
      " conv2d_2 (Conv2D)           (None, 42, 42, 64)        18496     \n",
      "                                                                 \n",
      " max_pooling2d_2 (MaxPoolin  (None, 14, 14, 64)        0         \n",
      " g2D)                                                            \n",
      "                                                                 \n",
      " dropout_1 (Dropout)         (None, 14, 14, 64)        0         \n",
      "                                                                 \n",
      " conv2d_3 (Conv2D)           (None, 10, 10, 128)       204928    \n",
      "                                                                 \n",
      " max_pooling2d_3 (MaxPoolin  (None, 2, 2, 128)         0         \n",
      " g2D)                                                            \n",
      "                                                                 \n",
      " dropout_2 (Dropout)         (None, 2, 2, 128)         0         \n",
      "                                                                 \n",
      " flatten (Flatten)           (None, 512)               0         \n",
      "                                                                 \n",
      " dense (Dense)               (None, 128)               65664     \n",
      "                                                                 \n",
      " dropout_3 (Dropout)         (None, 128)               0         \n",
      "                                                                 \n",
      " dense_1 (Dense)             (None, 200)               25800     \n",
      "                                                                 \n",
      "=================================================================\n",
      "Total params: 319432 (1.22 MB)\n",
      "Trainable params: 319432 (1.22 MB)\n",
      "Non-trainable params: 0 (0.00 Byte)\n",
      "_________________________________________________________________\n"
     ]
    }
   ],
   "source": [
    "from keras.optimizers import Adam\n",
    "#add the scheduler (to the simple model first to see if it makes a difference)\n",
    "model3.compile(optimizer = Adam(learning_rate=0.001),\n",
    "              loss=tf.keras.losses.SparseCategoricalCrossentropy(),\n",
    "              metrics=['accuracy'])\n",
    "model3.summary()"
   ]
  },
  {
   "cell_type": "code",
   "execution_count": 6,
   "id": "e6ef6623-0e1c-4bc4-a867-98b1b45f9361",
   "metadata": {},
   "outputs": [
    {
     "name": "stdout",
     "output_type": "stream",
     "text": [
      "Epoch 1/15\n",
      "1186/1186 [==============================] - 177s 148ms/step - loss: 4.6630 - accuracy: 0.0364 - val_loss: 4.0272 - val_accuracy: 0.0925\n",
      "Epoch 2/15\n",
      "1186/1186 [==============================] - 176s 149ms/step - loss: 3.7188 - accuracy: 0.1180 - val_loss: 3.4277 - val_accuracy: 0.1812\n",
      "Epoch 3/15\n",
      "1186/1186 [==============================] - 174s 147ms/step - loss: 3.2520 - accuracy: 0.1969 - val_loss: 3.1637 - val_accuracy: 0.2201\n",
      "Epoch 4/15\n",
      "1186/1186 [==============================] - 179s 151ms/step - loss: 2.9492 - accuracy: 0.2529 - val_loss: 3.0002 - val_accuracy: 0.2581\n",
      "Epoch 5/15\n",
      "1186/1186 [==============================] - 177s 149ms/step - loss: 2.7194 - accuracy: 0.3005 - val_loss: 2.8842 - val_accuracy: 0.2927\n",
      "Epoch 6/15\n",
      "1186/1186 [==============================] - 177s 149ms/step - loss: 2.5295 - accuracy: 0.3407 - val_loss: 2.8627 - val_accuracy: 0.2927\n",
      "Epoch 7/15\n",
      "1186/1186 [==============================] - 176s 149ms/step - loss: 2.3700 - accuracy: 0.3709 - val_loss: 2.7810 - val_accuracy: 0.3219\n",
      "Epoch 8/15\n",
      "1186/1186 [==============================] - 176s 148ms/step - loss: 2.2394 - accuracy: 0.3976 - val_loss: 2.7904 - val_accuracy: 0.3260\n",
      "Epoch 9/15\n",
      "1186/1186 [==============================] - 176s 148ms/step - loss: 2.1211 - accuracy: 0.4236 - val_loss: 2.8075 - val_accuracy: 0.3275\n",
      "Epoch 10/15\n",
      "1186/1186 [==============================] - 177s 149ms/step - loss: 2.0221 - accuracy: 0.4475 - val_loss: 2.8264 - val_accuracy: 0.3279\n",
      "Epoch 11/15\n",
      "1186/1186 [==============================] - 178s 150ms/step - loss: 1.9230 - accuracy: 0.4685 - val_loss: 2.7169 - val_accuracy: 0.3466\n",
      "Epoch 12/15\n",
      "1186/1186 [==============================] - 177s 149ms/step - loss: 1.8506 - accuracy: 0.4825 - val_loss: 2.8446 - val_accuracy: 0.3315\n",
      "Epoch 13/15\n",
      "1186/1186 [==============================] - 177s 149ms/step - loss: 1.7753 - accuracy: 0.5005 - val_loss: 2.7988 - val_accuracy: 0.3614\n",
      "Epoch 14/15\n",
      "1186/1186 [==============================] - 179s 151ms/step - loss: 1.7199 - accuracy: 0.5117 - val_loss: 2.7614 - val_accuracy: 0.3540\n",
      "Epoch 15/15\n",
      "1186/1186 [==============================] - 177s 149ms/step - loss: 1.6525 - accuracy: 0.5292 - val_loss: 2.8132 - val_accuracy: 0.3582\n"
     ]
    }
   ],
   "source": [
    "history3 = model3.fit(train_images, train_labels, batch_size=batch_size,\n",
    "                            epochs=15, validation_data=(valid_images, valid_labels))\n",
    "#started with 15"
   ]
  },
  {
   "cell_type": "code",
   "execution_count": 9,
   "id": "b2816b55-d34f-409d-aa9d-2b5629957372",
   "metadata": {},
   "outputs": [
    {
     "name": "stdout",
     "output_type": "stream",
     "text": [
      "141/141 - 8s - loss: 2.8482 - accuracy: 0.3429 - 8s/epoch - 57ms/step\n",
      "CNN Test Accuracy: 34.29%\n",
      "CNN Test Loss: 2.8482\n"
     ]
    }
   ],
   "source": [
    "test_loss3, test_accuracy3 = model3.evaluate(test_images, test_labels, verbose=2)\n",
    "\n",
    "print(f'CNN Test Accuracy: {test_accuracy3 * 100:.2f}%')\n",
    "print(f'CNN Test Loss: {test_loss3:.4f}')"
   ]
  },
  {
   "cell_type": "code",
   "execution_count": 10,
   "id": "aa56d7eb-2d2e-4049-a411-6ddc5cd720ea",
   "metadata": {},
   "outputs": [
    {
     "data": {
      "text/plain": [
       "<matplotlib.legend.Legend at 0x7fd50fce40d0>"
      ]
     },
     "execution_count": 10,
     "metadata": {},
     "output_type": "execute_result"
    },
    {
     "data": {
      "image/png": "[encoded data removed]",
      "text/plain": [
       "<Figure size 640x480 with 1 Axes>"
      ]
     },
     "metadata": {},
     "output_type": "display_data"
    }
   ],
   "source": [
    "plt.subplot(2,1,1)\n",
    "plt.plot(history3.history['accuracy'])\n",
    "plt.plot(history3.history['val_accuracy'])\n",
    "plt.title('model accuracy')\n",
    "plt.ylabel('accuracy')\n",
    "plt.xlabel('epoch')\n",
    "plt.legend(['train', 'validation'], loc='lower right')"
   ]
  },
  {
   "cell_type": "code",
   "execution_count": 11,
   "id": "f4794827-e436-4e91-91e0-abbd30178fc0",
   "metadata": {},
   "outputs": [
    {
     "data": {
      "text/plain": [
       "<matplotlib.legend.Legend at 0x7fd50fd5bfa0>"
      ]
     },
     "execution_count": 11,
     "metadata": {},
     "output_type": "execute_result"
    },
    {
     "data": {
      "image/png": "[encoded data removed]",
      "text/plain": [
       "<Figure size 640x480 with 1 Axes>"
      ]
     },
     "metadata": {},
     "output_type": "display_data"
    }
   ],
   "source": [
    "plt.subplot(2,1,2)\n",
    "plt.plot(history3.history['loss'])\n",
    "plt.plot(history3.history['val_loss'])\n",
    "plt.title('model loss')\n",
    "plt.ylabel('loss')\n",
    "plt.xlabel('epoch')\n",
    "plt.legend(['train', 'validation'], loc='upper right')"
   ]
  }
 ],
 "metadata": {
  "kernelspec": {
   "display_name": "Python 3 (ipykernel)",
   "language": "python",
   "name": "python3"
  },
  "language_info": {
   "codemirror_mode": {
    "name": "ipython",
    "version": 3
   },
   "file_extension": ".py",
   "mimetype": "text/x-python",
   "name": "python",
   "nbconvert_exporter": "python",
   "pygments_lexer": "ipython3",
   "version": "3.10.12"
  }
 },
 "nbformat": 4,
 "nbformat_minor": 5
}
